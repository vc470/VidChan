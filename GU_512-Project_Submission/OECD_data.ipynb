{
 "cells": [
  {
   "cell_type": "markdown",
   "metadata": {},
   "source": [
    "# Getting Data from OECD\n"
   ]
  },
  {
   "cell_type": "code",
   "execution_count": 1,
   "metadata": {},
   "outputs": [
    {
     "name": "stderr",
     "output_type": "stream",
     "text": [
      "C:\\Users\\nicol\\Anaconda3\\lib\\site-packages\\pandas_datareader\\compat\\__init__.py:9: FutureWarning: pandas.util.testing is deprecated. Use the functions in the public API at pandas.testing instead.\n",
      "  from pandas.util.testing import assert_frame_equal\n"
     ]
    }
   ],
   "source": [
    "import pandas_datareader.data as web\n",
    "import pandas as pd"
   ]
  },
  {
   "cell_type": "markdown",
   "metadata": {},
   "source": [
    "### Gross Domestic Expenditure on R&D (GERD) as percentage of GDP"
   ]
  },
  {
   "cell_type": "code",
   "execution_count": 2,
   "metadata": {},
   "outputs": [],
   "source": [
    "GERD_reader = web.DataReader('MSTI_PUB', 'oecd', start=1981, end=2019)"
   ]
  },
  {
   "cell_type": "code",
   "execution_count": 3,
   "metadata": {},
   "outputs": [
    {
     "data": {
      "text/html": [
       "<div>\n",
       "<style scoped>\n",
       "    .dataframe tbody tr th:only-of-type {\n",
       "        vertical-align: middle;\n",
       "    }\n",
       "\n",
       "    .dataframe tbody tr th {\n",
       "        vertical-align: top;\n",
       "    }\n",
       "\n",
       "    .dataframe thead th {\n",
       "        text-align: right;\n",
       "    }\n",
       "</style>\n",
       "<table border=\"1\" class=\"dataframe\">\n",
       "  <thead>\n",
       "    <tr style=\"text-align: right;\">\n",
       "      <th></th>\n",
       "      <th>Year</th>\n",
       "      <th>Country</th>\n",
       "      <th>Percent_GDP_on_RD</th>\n",
       "    </tr>\n",
       "  </thead>\n",
       "  <tbody>\n",
       "    <tr>\n",
       "      <th>0</th>\n",
       "      <td>1989-01-01</td>\n",
       "      <td>Argentina</td>\n",
       "      <td>0.385030</td>\n",
       "    </tr>\n",
       "    <tr>\n",
       "      <th>1</th>\n",
       "      <td>1990-01-01</td>\n",
       "      <td>Argentina</td>\n",
       "      <td>0.379223</td>\n",
       "    </tr>\n",
       "    <tr>\n",
       "      <th>2</th>\n",
       "      <td>1991-01-01</td>\n",
       "      <td>Argentina</td>\n",
       "      <td>0.404291</td>\n",
       "    </tr>\n",
       "    <tr>\n",
       "      <th>3</th>\n",
       "      <td>1992-01-01</td>\n",
       "      <td>Argentina</td>\n",
       "      <td>0.359716</td>\n",
       "    </tr>\n",
       "    <tr>\n",
       "      <th>4</th>\n",
       "      <td>1993-01-01</td>\n",
       "      <td>Argentina</td>\n",
       "      <td>0.403760</td>\n",
       "    </tr>\n",
       "  </tbody>\n",
       "</table>\n",
       "</div>"
      ],
      "text/plain": [
       "        Year    Country  Percent_GDP_on_RD\n",
       "0 1989-01-01  Argentina           0.385030\n",
       "1 1990-01-01  Argentina           0.379223\n",
       "2 1991-01-01  Argentina           0.404291\n",
       "3 1992-01-01  Argentina           0.359716\n",
       "4 1993-01-01  Argentina           0.403760"
      ]
     },
     "execution_count": 3,
     "metadata": {},
     "output_type": "execute_result"
    }
   ],
   "source": [
    "GERDdf = GERD_reader['GERD as a percentage of GDP']\n",
    "\n",
    "############# DOUG--\n",
    "# Compare the initial data here to the rearranged data at the end of this cell.\n",
    "# This may help with your year formatting?\n",
    "# Uncomment the csv files to see them\n",
    "# GERDdf.to_csv('initialGERD.csv')\n",
    "\n",
    "\n",
    "# Need to change from separate columns for each country to repeated rows\n",
    "# and a column for the percent value\n",
    "GERDdf = GERDdf.stack().to_frame()\n",
    "GERDdf.reset_index(inplace=True)\n",
    "GERDdf.sort_values(['Country', 'Year'], inplace=True)\n",
    "GERDdf.reset_index(drop=True, inplace=True)\n",
    "GERDdf.rename({0:'Percent_GDP_on_RD'}, axis=1, inplace=True)\n",
    "\n",
    "GERDdf.head()\n",
    "\n",
    "# GERDdf.to_csv('formattedGERD.csv')"
   ]
  },
  {
   "cell_type": "markdown",
   "metadata": {},
   "source": [
    "### Percent of Population with Health Insurance (Public or Private)"
   ]
  },
  {
   "cell_type": "code",
   "execution_count": 4,
   "metadata": {},
   "outputs": [],
   "source": [
    "HI_reader = web.DataReader('HEALTH_PROT', 'oecd', start=1981, end=2019)"
   ]
  },
  {
   "cell_type": "code",
   "execution_count": 5,
   "metadata": {},
   "outputs": [
    {
     "data": {
      "text/html": [
       "<div>\n",
       "<style scoped>\n",
       "    .dataframe tbody tr th:only-of-type {\n",
       "        vertical-align: middle;\n",
       "    }\n",
       "\n",
       "    .dataframe tbody tr th {\n",
       "        vertical-align: top;\n",
       "    }\n",
       "\n",
       "    .dataframe thead th {\n",
       "        text-align: right;\n",
       "    }\n",
       "</style>\n",
       "<table border=\"1\" class=\"dataframe\">\n",
       "  <thead>\n",
       "    <tr style=\"text-align: right;\">\n",
       "      <th></th>\n",
       "      <th>Year</th>\n",
       "      <th>Country</th>\n",
       "      <th>Percent_Pop_HI</th>\n",
       "    </tr>\n",
       "  </thead>\n",
       "  <tbody>\n",
       "    <tr>\n",
       "      <th>0</th>\n",
       "      <td>1981-01-01</td>\n",
       "      <td>Australia</td>\n",
       "      <td>100.0</td>\n",
       "    </tr>\n",
       "    <tr>\n",
       "      <th>1</th>\n",
       "      <td>1982-01-01</td>\n",
       "      <td>Australia</td>\n",
       "      <td>100.0</td>\n",
       "    </tr>\n",
       "    <tr>\n",
       "      <th>2</th>\n",
       "      <td>1983-01-01</td>\n",
       "      <td>Australia</td>\n",
       "      <td>100.0</td>\n",
       "    </tr>\n",
       "    <tr>\n",
       "      <th>3</th>\n",
       "      <td>1984-01-01</td>\n",
       "      <td>Australia</td>\n",
       "      <td>100.0</td>\n",
       "    </tr>\n",
       "    <tr>\n",
       "      <th>4</th>\n",
       "      <td>1985-01-01</td>\n",
       "      <td>Australia</td>\n",
       "      <td>100.0</td>\n",
       "    </tr>\n",
       "  </tbody>\n",
       "</table>\n",
       "</div>"
      ],
      "text/plain": [
       "        Year    Country  Percent_Pop_HI\n",
       "0 1981-01-01  Australia           100.0\n",
       "1 1982-01-01  Australia           100.0\n",
       "2 1983-01-01  Australia           100.0\n",
       "3 1984-01-01  Australia           100.0\n",
       "4 1985-01-01  Australia           100.0"
      ]
     },
     "execution_count": 5,
     "metadata": {},
     "output_type": "execute_result"
    }
   ],
   "source": [
    "HIdf = HI_reader['Total public and primary private health insurance']['% of total population covered']\n",
    "\n",
    "# Need to change from separate columns for each country to repeated rows\n",
    "# and a column for the percent value\n",
    "HIdf = HIdf.stack().to_frame()\n",
    "HIdf.reset_index(inplace=True)\n",
    "HIdf.sort_values(['Country', 'Year'], inplace=True)\n",
    "HIdf.reset_index(drop=True, inplace=True)\n",
    "HIdf.rename({0:'Percent_Pop_HI'}, axis=1, inplace=True)\n",
    "\n",
    "HIdf.head()"
   ]
  },
  {
   "cell_type": "markdown",
   "metadata": {},
   "source": [
    "### Production-based CO2 productivity, GDP per unit of energy-related CO2 emissions"
   ]
  },
  {
   "cell_type": "code",
   "execution_count": 6,
   "metadata": {},
   "outputs": [],
   "source": [
    "CO2_reader = web.DataReader('GREEN_GROWTH', 'oecd', start=1981, end=2019)"
   ]
  },
  {
   "cell_type": "code",
   "execution_count": 7,
   "metadata": {},
   "outputs": [
    {
     "data": {
      "text/html": [
       "<div>\n",
       "<style scoped>\n",
       "    .dataframe tbody tr th:only-of-type {\n",
       "        vertical-align: middle;\n",
       "    }\n",
       "\n",
       "    .dataframe tbody tr th {\n",
       "        vertical-align: top;\n",
       "    }\n",
       "\n",
       "    .dataframe thead th {\n",
       "        text-align: right;\n",
       "    }\n",
       "</style>\n",
       "<table border=\"1\" class=\"dataframe\">\n",
       "  <thead>\n",
       "    <tr style=\"text-align: right;\">\n",
       "      <th></th>\n",
       "      <th>Year</th>\n",
       "      <th>Country</th>\n",
       "      <th>GDP_per_unit_CO2</th>\n",
       "    </tr>\n",
       "  </thead>\n",
       "  <tbody>\n",
       "    <tr>\n",
       "      <th>0</th>\n",
       "      <td>1990-01-01</td>\n",
       "      <td>ASEAN</td>\n",
       "      <td>NaN</td>\n",
       "    </tr>\n",
       "    <tr>\n",
       "      <th>1</th>\n",
       "      <td>1991-01-01</td>\n",
       "      <td>ASEAN</td>\n",
       "      <td>NaN</td>\n",
       "    </tr>\n",
       "    <tr>\n",
       "      <th>2</th>\n",
       "      <td>1992-01-01</td>\n",
       "      <td>ASEAN</td>\n",
       "      <td>NaN</td>\n",
       "    </tr>\n",
       "    <tr>\n",
       "      <th>3</th>\n",
       "      <td>1993-01-01</td>\n",
       "      <td>ASEAN</td>\n",
       "      <td>NaN</td>\n",
       "    </tr>\n",
       "    <tr>\n",
       "      <th>4</th>\n",
       "      <td>1994-01-01</td>\n",
       "      <td>ASEAN</td>\n",
       "      <td>NaN</td>\n",
       "    </tr>\n",
       "  </tbody>\n",
       "</table>\n",
       "</div>"
      ],
      "text/plain": [
       "        Year Country  GDP_per_unit_CO2\n",
       "0 1990-01-01   ASEAN               NaN\n",
       "1 1991-01-01   ASEAN               NaN\n",
       "2 1992-01-01   ASEAN               NaN\n",
       "3 1993-01-01   ASEAN               NaN\n",
       "4 1994-01-01   ASEAN               NaN"
      ]
     },
     "execution_count": 7,
     "metadata": {},
     "output_type": "execute_result"
    }
   ],
   "source": [
    "# This one is different because each country had a separate table\n",
    "# instead of all being a column in one table. Below is the code that\n",
    "# combines all of the tables into one dataframe.\n",
    "\n",
    "\n",
    "# Initializing empty dataframe\n",
    "CO2df = pd.DataFrame(columns=['Year', 'Country', 'GDP_per_unit_CO2'])\n",
    "\n",
    "# CO2_reader has a multi-index. The country is the first entry of each,\n",
    "# so the following code pulls out the country names and set() gets rid of duplicates.\n",
    "countries = set(CO2_reader.columns.get_level_values(0))\n",
    "countries = sorted(list(countries))\n",
    "\n",
    "# This for loop gets the particular data we are interested in for \n",
    "# each country and then adds that to the initialized/master dataframe:\n",
    "for country in countries:\n",
    "    Cseries = CO2_reader[country]['Production-based CO2 productivity, GDP per unit of energy-related CO2 emissions']\n",
    "    Cdf = Cseries.to_frame()\n",
    "    Cdf.reset_index(inplace=True)\n",
    "    Cdf.rename({'Production-based CO2 productivity, GDP per unit of energy-related CO2 emissions':'GDP_per_unit_CO2'},\n",
    "                 axis=1, inplace=True) \n",
    "    Cdf.insert(1, 'Country', country)\n",
    "    CO2df = pd.concat([CO2df, Cdf], axis=0)\n",
    "\n",
    "CO2df.head()"
   ]
  },
  {
   "cell_type": "markdown",
   "metadata": {},
   "source": [
    "### Merging Data Together"
   ]
  },
  {
   "cell_type": "code",
   "execution_count": 8,
   "metadata": {},
   "outputs": [
    {
     "data": {
      "text/html": [
       "<div>\n",
       "<style scoped>\n",
       "    .dataframe tbody tr th:only-of-type {\n",
       "        vertical-align: middle;\n",
       "    }\n",
       "\n",
       "    .dataframe tbody tr th {\n",
       "        vertical-align: top;\n",
       "    }\n",
       "\n",
       "    .dataframe thead th {\n",
       "        text-align: right;\n",
       "    }\n",
       "</style>\n",
       "<table border=\"1\" class=\"dataframe\">\n",
       "  <thead>\n",
       "    <tr style=\"text-align: right;\">\n",
       "      <th></th>\n",
       "      <th>Year</th>\n",
       "      <th>Country</th>\n",
       "      <th>Percent_GDP_on_RD</th>\n",
       "      <th>Percent_Pop_HI</th>\n",
       "      <th>GDP_per_unit_CO2</th>\n",
       "    </tr>\n",
       "  </thead>\n",
       "  <tbody>\n",
       "    <tr>\n",
       "      <th>0</th>\n",
       "      <td>1990-01-01</td>\n",
       "      <td>ASEAN</td>\n",
       "      <td>NaN</td>\n",
       "      <td>NaN</td>\n",
       "      <td>NaN</td>\n",
       "    </tr>\n",
       "    <tr>\n",
       "      <th>1</th>\n",
       "      <td>1991-01-01</td>\n",
       "      <td>ASEAN</td>\n",
       "      <td>NaN</td>\n",
       "      <td>NaN</td>\n",
       "      <td>NaN</td>\n",
       "    </tr>\n",
       "    <tr>\n",
       "      <th>2</th>\n",
       "      <td>1992-01-01</td>\n",
       "      <td>ASEAN</td>\n",
       "      <td>NaN</td>\n",
       "      <td>NaN</td>\n",
       "      <td>NaN</td>\n",
       "    </tr>\n",
       "    <tr>\n",
       "      <th>3</th>\n",
       "      <td>1993-01-01</td>\n",
       "      <td>ASEAN</td>\n",
       "      <td>NaN</td>\n",
       "      <td>NaN</td>\n",
       "      <td>NaN</td>\n",
       "    </tr>\n",
       "    <tr>\n",
       "      <th>4</th>\n",
       "      <td>1994-01-01</td>\n",
       "      <td>ASEAN</td>\n",
       "      <td>NaN</td>\n",
       "      <td>NaN</td>\n",
       "      <td>NaN</td>\n",
       "    </tr>\n",
       "  </tbody>\n",
       "</table>\n",
       "</div>"
      ],
      "text/plain": [
       "        Year Country  Percent_GDP_on_RD  Percent_Pop_HI  GDP_per_unit_CO2\n",
       "0 1990-01-01   ASEAN                NaN             NaN               NaN\n",
       "1 1991-01-01   ASEAN                NaN             NaN               NaN\n",
       "2 1992-01-01   ASEAN                NaN             NaN               NaN\n",
       "3 1993-01-01   ASEAN                NaN             NaN               NaN\n",
       "4 1994-01-01   ASEAN                NaN             NaN               NaN"
      ]
     },
     "execution_count": 8,
     "metadata": {},
     "output_type": "execute_result"
    }
   ],
   "source": [
    "merge1 = pd.merge(left=GERDdf, right=HIdf, how='outer',\n",
    "                       left_on=['Country', 'Year'], right_on=['Country', 'Year'])\n",
    "OECDdf = pd.merge(left=merge1, right=CO2df, how='outer',\n",
    "                       left_on=['Country', 'Year'], right_on=['Country', 'Year'])\n",
    "OECDdf.sort_values(['Country', 'Year'], inplace=True)\n",
    "OECDdf.reset_index(drop=True, inplace=True)\n",
    "\n",
    "OECDdf.head()"
   ]
  },
  {
   "cell_type": "markdown",
   "metadata": {},
   "source": [
    "### Fixing Country Names"
   ]
  },
  {
   "cell_type": "code",
   "execution_count": 9,
   "metadata": {},
   "outputs": [],
   "source": [
    "import pycountry\n",
    "# Official/Up-to-date Country Names\n",
    "pycountries = [country.name for country in pycountry.countries]\n",
    "\n",
    "# Country names that appear in OECD data\n",
    "OECDcountries = sorted(list(set(OECDdf.iloc[:,1])))\n",
    "\n",
    "# Making csv for me to see what needs to be changed\n",
    "Same = sorted(list(set(OECDcountries).intersection(set(pycountries))))\n",
    "OECD_Only = sorted(list(set(OECDcountries) - set(pycountries)))\n",
    "Py_Only = sorted(list(set(pycountries) - set(OECDcountries)))\n",
    "comparisondf = pd.DataFrame({'Same': pd.Series(Same),\n",
    "                             'Merged_Only': pd.Series(OECD_Only),\n",
    "                             'Py_Only': pd.Series(Py_Only)})\n",
    "# comparisondf.to_csv('comp.csv')"
   ]
  },
  {
   "cell_type": "code",
   "execution_count": 10,
   "metadata": {},
   "outputs": [],
   "source": [
    "# OECD has some groups of countries that I will remove\n",
    "remove = ['ASEAN', 'BRIICS economies - Brazil, Russia, India, Indonesia, China and South Africa',\n",
    "         'Eastern Europe, Caucasus and Central Asia', 'Euro area (19 countries)',\n",
    "         'European Union (15 countries)', 'European Union (28 countries)',\n",
    "         'G20', 'G7', 'Latin America and Caribbean', 'Middle East and North Africa',\n",
    "         'OECD - Europe', 'OECD - Total', 'OECD America', 'OECD Asia Oceania', 'World']\n",
    "\n",
    "OECDdf = OECDdf[~OECDdf.Country.isin(remove)]"
   ]
  },
  {
   "cell_type": "code",
   "execution_count": 11,
   "metadata": {},
   "outputs": [],
   "source": [
    "# Other country names need to be updated to match current official names\n",
    "update_dic = {'Bolivia':'Bolivia, Plurinational State of',\n",
    "              \"China (People's Republic of)\":'China',\n",
    "              'Chinese Taipei':'Taiwan, Province of China',\n",
    "              'Czech Republic':'Czechia',\n",
    "              'Democratic Republic of the Congo':'Congo, The Democratic Republic of the',\n",
    "              'Iran':'Iran, Islamic Republic of',\n",
    "              'Korea':'Korea, Republic of',\n",
    "              'Micronesia':'Micronesia, Federated States of',\n",
    "              'Moldova':'Moldova, Republic of',\n",
    "              'Russia':'Russian Federation',\n",
    "              'Slovak Republic':'Slovakia',\n",
    "              'Tanzania':'Tanzania, United Republic of',\n",
    "              'Venezuela':'Venezuela, Bolivarian Republic of'}\n",
    "OECDdf = OECDdf.replace({\"Country\": update_dic})\n",
    "OECDdf.sort_values(['Country', 'Year'], inplace=True)\n",
    "OECDdf.reset_index(drop=True, inplace=True)"
   ]
  },
  {
   "cell_type": "code",
   "execution_count": 12,
   "metadata": {},
   "outputs": [],
   "source": [
    "# Checking that it worked\n",
    "OECDcountries = sorted(list(set(OECDdf.iloc[:,1])))\n",
    "Same = sorted(list(set(OECDcountries).intersection(set(pycountries))))\n",
    "OECD_Only = sorted(list(set(OECDcountries) - set(pycountries)))\n",
    "Py_Only = sorted(list(set(pycountries) - set(OECDcountries)))\n",
    "comparisondf2 = pd.DataFrame({'Same': pd.Series(Same),\n",
    "                             'Merged_Only': pd.Series(OECD_Only, dtype='float64'),\n",
    "                             'Py_Only': pd.Series(Py_Only)})\n",
    "# comparisondf2.to_csv('comp2.csv')\n",
    "# All good, except that there are pycountries not in the OECD data"
   ]
  },
  {
   "cell_type": "code",
   "execution_count": 13,
   "metadata": {},
   "outputs": [],
   "source": [
    "# Now I want to add all countries in pycountries (and all years from 1982),\n",
    "# but I'm going to convert the Year column from timestamp to integer first.\n",
    "\n",
    "OECDdf['Year'] = OECDdf['Year'].dt.year"
   ]
  },
  {
   "cell_type": "code",
   "execution_count": 14,
   "metadata": {},
   "outputs": [
    {
     "data": {
      "text/html": [
       "<div>\n",
       "<style scoped>\n",
       "    .dataframe tbody tr th:only-of-type {\n",
       "        vertical-align: middle;\n",
       "    }\n",
       "\n",
       "    .dataframe tbody tr th {\n",
       "        vertical-align: top;\n",
       "    }\n",
       "\n",
       "    .dataframe thead th {\n",
       "        text-align: right;\n",
       "    }\n",
       "</style>\n",
       "<table border=\"1\" class=\"dataframe\">\n",
       "  <thead>\n",
       "    <tr style=\"text-align: right;\">\n",
       "      <th></th>\n",
       "      <th>Year</th>\n",
       "      <th>Country</th>\n",
       "    </tr>\n",
       "  </thead>\n",
       "  <tbody>\n",
       "    <tr>\n",
       "      <th>0</th>\n",
       "      <td>1981</td>\n",
       "      <td>Aruba</td>\n",
       "    </tr>\n",
       "    <tr>\n",
       "      <th>1</th>\n",
       "      <td>1981</td>\n",
       "      <td>Afghanistan</td>\n",
       "    </tr>\n",
       "    <tr>\n",
       "      <th>2</th>\n",
       "      <td>1981</td>\n",
       "      <td>Angola</td>\n",
       "    </tr>\n",
       "    <tr>\n",
       "      <th>3</th>\n",
       "      <td>1981</td>\n",
       "      <td>Anguilla</td>\n",
       "    </tr>\n",
       "    <tr>\n",
       "      <th>4</th>\n",
       "      <td>1981</td>\n",
       "      <td>Åland Islands</td>\n",
       "    </tr>\n",
       "  </tbody>\n",
       "</table>\n",
       "</div>"
      ],
      "text/plain": [
       "   Year        Country\n",
       "0  1981          Aruba\n",
       "1  1981    Afghanistan\n",
       "2  1981         Angola\n",
       "3  1981       Anguilla\n",
       "4  1981  Åland Islands"
      ]
     },
     "execution_count": 14,
     "metadata": {},
     "output_type": "execute_result"
    }
   ],
   "source": [
    "# Now I'll make a dataframe of all the pycountries repeated \n",
    "# for each year from 1981-2019 that can then be joined with OECDdf\n",
    "\n",
    "# Makes a dataframe with each year repeated as many\n",
    "# times as there are countries (249 times)\n",
    "years = pd.Series(range(1981,2020), name='Year')\n",
    "years2 = years.repeat(len(pycountries))\n",
    "years_countries_df = years2.to_frame()\n",
    "\n",
    "# Cycles through country names to add one for each year\n",
    "from itertools import cycle\n",
    "seq = cycle(pycountries)\n",
    "years_countries_df['Country'] = [next(seq) for count in range(years_countries_df.shape[0])]\n",
    "\n",
    "# Looking at resulting dataframe\n",
    "years_countries_df.reset_index(drop=True, inplace=True)\n",
    "years_countries_df.head()"
   ]
  },
  {
   "cell_type": "code",
   "execution_count": 15,
   "metadata": {},
   "outputs": [],
   "source": [
    "# Merging with OECD data so that all countries and years appear,\n",
    "# even if the variables are missing\n",
    "OECDdf = pd.merge(left=OECDdf, right=years_countries_df, how='outer',\n",
    "                       left_on=['Country', 'Year'], right_on=['Country', 'Year'])\n",
    "OECDdf.sort_values(['Country', 'Year'], inplace=True)\n",
    "OECDdf.reset_index(drop=True, inplace=True)"
   ]
  },
  {
   "cell_type": "markdown",
   "metadata": {},
   "source": [
    "### Dealing with Missing Data"
   ]
  },
  {
   "cell_type": "code",
   "execution_count": 16,
   "metadata": {},
   "outputs": [
    {
     "name": "stdout",
     "output_type": "stream",
     "text": [
      "<class 'pandas.core.frame.DataFrame'>\n",
      "RangeIndex: 9711 entries, 0 to 9710\n",
      "Data columns (total 5 columns):\n",
      " #   Column             Non-Null Count  Dtype  \n",
      "---  ------             --------------  -----  \n",
      " 0   Year               9711 non-null   int64  \n",
      " 1   Country            9711 non-null   object \n",
      " 2   Percent_GDP_on_RD  1248 non-null   float64\n",
      " 3   Percent_Pop_HI     1099 non-null   float64\n",
      " 4   GDP_per_unit_CO2   3709 non-null   float64\n",
      "dtypes: float64(3), int64(1), object(1)\n",
      "memory usage: 379.5+ KB\n"
     ]
    }
   ],
   "source": [
    "OECDdf.info()"
   ]
  },
  {
   "cell_type": "code",
   "execution_count": 17,
   "metadata": {},
   "outputs": [],
   "source": [
    "# I'm going to just drop the R&D and Health Insurance columns\n",
    "# since they are missing so many years/countries\n",
    "OECDdf.drop(columns=['Percent_GDP_on_RD', 'Percent_Pop_HI'], inplace=True)"
   ]
  },
  {
   "cell_type": "code",
   "execution_count": 18,
   "metadata": {},
   "outputs": [],
   "source": [
    "# I'm also going to drop 2019, since Vid did in the World Bank data\n",
    "\n",
    "# Get names of indexes for which column Year has value 2019\n",
    "indexNames = OECDdf[ OECDdf['Year'] == 2019 ].index\n",
    "# Delete these row indexes from df\n",
    "OECDdf.drop(indexNames, inplace=True)"
   ]
  },
  {
   "cell_type": "code",
   "execution_count": 20,
   "metadata": {},
   "outputs": [],
   "source": [
    "# I will keep the GDP per unit of CO2 column, since it \n",
    "# has a significant number of countries (usually from 1990 on).\n",
    "\n",
    "# I will get the countries that actually have this data into\n",
    "# a list for reference.\n",
    "non_null = OECDdf.dropna()\n",
    "nn_countries = sorted(list(set(non_null['Country'])))\n",
    "len(nn_countries) # 133 countries have this data for at least some years\n",
    "\n",
    "# Generally, we have this data from 1990-2018, but some countries are\n",
    "# missing some of those years.\n",
    "nn_years = sorted(list(set(non_null['Year'])))"
   ]
  },
  {
   "cell_type": "code",
   "execution_count": 21,
   "metadata": {},
   "outputs": [],
   "source": [
    "# Most countries that were missing years were missing 1990 and/or 2018.\n",
    "# I'm going to remove countries missing more than those two years.\n",
    "# For the countries missing 1990, I will fill it with their value from 1991. \n",
    "# For the countries missing 2018, I will fill it with their value from 2017.\n",
    "\n",
    "# This for loop does the above three tasks.\n",
    "\n",
    "for country in nn_countries:\n",
    "    \n",
    "    # list of available years for a particular country\n",
    "    av_years = list(non_null.loc[non_null['Country'] == country, 'Year'])\n",
    "    \n",
    "    # missing years for the particular country\n",
    "    mi_years = list(set(nn_years) - set(av_years))\n",
    "    \n",
    "    # Removing countries missing more than 1990 and 2018:\n",
    "    if len(mi_years) > 2:\n",
    "        indexNames = non_null[ non_null['Country'] == country ].index\n",
    "        non_null.drop(indexNames, inplace=True)\n",
    "    \n",
    "    # Filling in missing 1990 values:\n",
    "    elif 1990 in mi_years:\n",
    "        val91 = non_null.loc[(non_null['Country']==country) & (non_null['Year']==1991), 'GDP_per_unit_CO2'].values[0]\n",
    "        non_null = non_null.append({'Year':1990, 'Country':country, 'GDP_per_unit_CO2':val91}, ignore_index=True)\n",
    "    \n",
    "    # Filling in missing 2018 values:\n",
    "    elif 2018 in mi_years:\n",
    "        val17 = non_null.loc[(non_null['Country']==country) & (non_null['Year']==2017), 'GDP_per_unit_CO2'].values[0]\n",
    "        non_null = non_null.append({'Year':2018, 'Country':country, 'GDP_per_unit_CO2':val17}, ignore_index=True)\n",
    "        \n",
    "non_null.sort_values(['Country', 'Year'], inplace=True)\n",
    "non_null.reset_index(drop=True, inplace=True)"
   ]
  },
  {
   "cell_type": "markdown",
   "metadata": {},
   "source": [
    "### Writing to CSV"
   ]
  },
  {
   "cell_type": "code",
   "execution_count": 23,
   "metadata": {},
   "outputs": [],
   "source": [
    "non_null.to_csv('OECD_Clean.csv', index=False)"
   ]
  }
 ],
 "metadata": {
  "kernelspec": {
   "display_name": "Python 3",
   "language": "python",
   "name": "python3"
  },
  "language_info": {
   "codemirror_mode": {
    "name": "ipython",
    "version": 3
   },
   "file_extension": ".py",
   "mimetype": "text/x-python",
   "name": "python",
   "nbconvert_exporter": "python",
   "pygments_lexer": "ipython3",
   "version": "3.7.3"
  }
 },
 "nbformat": 4,
 "nbformat_minor": 4
}
